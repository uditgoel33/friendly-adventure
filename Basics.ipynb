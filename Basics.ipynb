{
 "cells": [
  {
   "cell_type": "code",
   "execution_count": 1,
   "metadata": {
    "collapsed": false,
    "scrolled": true
   },
   "outputs": [],
   "source": [
    "##READING DATA \n",
    "import csv\n",
    "f = open(\"guns.csv\" , \"r\")\n",
    "data = list(csv.reader(f))\n",
    " "
   ]
  },
  {
   "cell_type": "code",
   "execution_count": 11,
   "metadata": {
    "collapsed": false
   },
   "outputs": [],
   "source": [
    "##REMOVING HEADER ROW FROM THE DATA\n",
    "headers = data[0]\n",
    "data = data[1:]"
   ]
  },
  {
   "cell_type": "code",
   "execution_count": 13,
   "metadata": {
    "collapsed": false
   },
   "outputs": [
    {
     "data": {
      "text/plain": [
       "{'2012': 33563, '2013': 33636, '2014': 33599}"
      ]
     },
     "execution_count": 13,
     "metadata": {},
     "output_type": "execute_result"
    }
   ],
   "source": [
    "##COUNTING NUMBER OF GUN DEATHS\n",
    "year_counts = {}\n",
    "for items in data:\n",
    "    if items[1] in year_counts:\n",
    "        year_counts[items[1]] += 1\n",
    "    else:\n",
    "        year_counts[items[1]] = 1\n",
    "year_counts"
   ]
  },
  {
   "cell_type": "code",
   "execution_count": 28,
   "metadata": {
    "collapsed": false
   },
   "outputs": [],
   "source": [
    "##GUN DEATHS BY MONTHS AND YEAR\n",
    "import datetime\n",
    "dates = []\n",
    "for items in data:\n",
    "    dates.append(datetime.datetime(year = int(items[1]), month = int(items[2]), day=1))\n",
    "date_counts = {}\n",
    "for items in dates:\n",
    "    if items in date_counts:\n",
    "        date_counts[items] += 1\n",
    "    else:\n",
    "        date_counts[items] = 1\n"
   ]
  },
  {
   "cell_type": "code",
   "execution_count": 13,
   "metadata": {
    "collapsed": false
   },
   "outputs": [
    {
     "data": {
      "text/plain": [
       "{'Asian/Pacific Islander': 1326,\n",
       " 'Black': 23296,\n",
       " 'Hispanic': 9022,\n",
       " 'Native American/Native Alaskan': 917,\n",
       " 'White': 66237}"
      ]
     },
     "execution_count": 13,
     "metadata": {},
     "output_type": "execute_result"
    }
   ],
   "source": [
    "##EXPLORING GUN AND DEATHS BY RACE AND SEX\n",
    "sex_counts = {}\n",
    "race_counts ={}\n",
    "for items in data:\n",
    "    if items[5] in sex_counts:\n",
    "        sex_counts[items[5]] += 1\n",
    "    else:\n",
    "        sex_counts[items[5]] = 1\n",
    "for items in data:\n",
    "    if items[7] in race_counts:\n",
    "        race_counts[items[7]] += 1\n",
    "    else:\n",
    "        race_counts[items[7]] = 1\n",
    "del (race_counts['race'])\n",
    "race_counts"
   ]
  },
  {
   "cell_type": "code",
   "execution_count": 35,
   "metadata": {
    "collapsed": true
   },
   "outputs": [],
   "source": [
    "##CONSIDERING THE DATES AND MONTHS WE OBSERVE THAT EQUAL NUMBER OF DEATHS  OCCUERED EACH DAY AND THERE IS NO OBSERVABLE PATTERN, BUT THE DEATHS WERE CAUSED MORE BY MEN THAN THEY WERE CAUSED BY WOMN"
   ]
  },
  {
   "cell_type": "code",
   "execution_count": 41,
   "metadata": {
    "collapsed": false
   },
   "outputs": [
    {
     "data": {
      "text/plain": [
       "[['Id',\n",
       "  'Year',\n",
       "  'Id',\n",
       "  'Sex',\n",
       "  'Id',\n",
       "  'Hispanic Origin',\n",
       "  'Id',\n",
       "  'Id2',\n",
       "  'Geography',\n",
       "  'Total',\n",
       "  'Race Alone - White',\n",
       "  'Race Alone - Hispanic',\n",
       "  'Race Alone - Black or African American',\n",
       "  'Race Alone - American Indian and Alaska Native',\n",
       "  'Race Alone - Asian',\n",
       "  'Race Alone - Native Hawaiian and Other Pacific Islander',\n",
       "  'Two or More Races'],\n",
       " ['cen42010',\n",
       "  'April 1, 2010 Census',\n",
       "  'totsex',\n",
       "  'Both Sexes',\n",
       "  'tothisp',\n",
       "  'Total',\n",
       "  '0100000US',\n",
       "  '',\n",
       "  'United States',\n",
       "  '308745538',\n",
       "  '197318956',\n",
       "  '44618105',\n",
       "  '40250635',\n",
       "  '3739506',\n",
       "  '15159516',\n",
       "  '674625',\n",
       "  '6984195']]"
      ]
     },
     "execution_count": 41,
     "metadata": {},
     "output_type": "execute_result"
    }
   ],
   "source": [
    "##READING CENSUS DATA\n",
    "import csv\n",
    "f = open(\"census.csv\" , \"r\")\n",
    "data = list(csv.reader(f))\n",
    "census = data\n",
    "census\n",
    "    \n",
    "    \n"
   ]
  },
  {
   "cell_type": "code",
   "execution_count": 17,
   "metadata": {
    "collapsed": false
   },
   "outputs": [
    {
     "data": {
      "text/plain": [
       "{'Asian/Pacific Islander': 1.8804091010098762,\n",
       " 'Black': 5.221198883278436,\n",
       " 'Hispanic': 2.022049121091091,\n",
       " 'Native American/Native Alaskan': 0.6049005786200562,\n",
       " 'White': 3.356849303419181}"
      ]
     },
     "execution_count": 17,
     "metadata": {},
     "output_type": "execute_result"
    }
   ],
   "source": [
    "##COMPUTING RATES OF GUN DEATHS PER RACE\n",
    "mapping = { 'Asian/Pacific Islander' : sum([67462, 6984195 ]), 'Black' : 44618105, 'Hispanic': 44618105, 'Native American/Native Alaskan': 15159516, 'White' : 197318956 }\n",
    "race_per_hundredk = {}\n",
    "for items in race_counts:\n",
    "    race_per_hundredk[items] = ((race_counts[items]/mapping[items])*10000)\n",
    "race_per_hundredk    \n"
   ]
  },
  {
   "cell_type": "code",
   "execution_count": null,
   "metadata": {
    "collapsed": true
   },
   "outputs": [],
   "source": []
  }
 ],
 "metadata": {
  "kernelspec": {
   "display_name": "Python 3",
   "language": "python",
   "name": "python3"
  },
  "language_info": {
   "codemirror_mode": {
    "name": "ipython",
    "version": 3
   },
   "file_extension": ".py",
   "mimetype": "text/x-python",
   "name": "python",
   "nbconvert_exporter": "python",
   "pygments_lexer": "ipython3",
   "version": "3.4.3"
  }
 },
 "nbformat": 4,
 "nbformat_minor": 0
}
